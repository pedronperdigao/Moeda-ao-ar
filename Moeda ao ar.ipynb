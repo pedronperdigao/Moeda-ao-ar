{
 "cells": [
  {
   "cell_type": "code",
   "execution_count": 3,
   "id": "51625557",
   "metadata": {},
   "outputs": [
    {
     "name": "stdout",
     "output_type": "stream",
     "text": [
      "O que é a Cara?451\n",
      "O que é a Coroa?523\n",
      "451\n"
     ]
    }
   ],
   "source": [
    "import random\n",
    "Cara=input('O que é a Cara?')\n",
    "Coroa=input('O que é a Coroa?')\n",
    "def cointoss():\n",
    "    rand_i = random.randint(0, 1)\n",
    "    outcomes = [Cara, Coroa]\n",
    "    return outcomes[rand_i]\n",
    "# Toss a coin 3 times\n",
    "lançamento = cointoss()\n",
    "print(lançamento)"
   ]
  }
 ],
 "metadata": {
  "kernelspec": {
   "display_name": "Python 3 (ipykernel)",
   "language": "python",
   "name": "python3"
  },
  "language_info": {
   "codemirror_mode": {
    "name": "ipython",
    "version": 3
   },
   "file_extension": ".py",
   "mimetype": "text/x-python",
   "name": "python",
   "nbconvert_exporter": "python",
   "pygments_lexer": "ipython3",
   "version": "3.9.7"
  }
 },
 "nbformat": 4,
 "nbformat_minor": 5
}
